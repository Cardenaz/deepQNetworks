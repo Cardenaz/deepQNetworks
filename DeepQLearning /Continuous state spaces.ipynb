{
 "cells": [
  {
   "cell_type": "code",
   "execution_count": 1,
   "metadata": {},
   "outputs": [],
   "source": [
    "# i detta exempel kodar vi en enkel linjärklassificerare \n",
    "\n",
    "import torch.nn as nn  #ger oss tillgång till layers \n",
    "import torch.nn.functional as F # ger oss aktiveringsfunktioner(sigmoid, RELU)\n",
    "import torch.optim as optim # optimeringsfunktioner\n",
    "import torch as T # vårt baspaket \n",
    "\n"
   ]
  },
  {
   "cell_type": "code",
   "execution_count": 2,
   "metadata": {},
   "outputs": [],
   "source": [
    "class LinearClassifier(nn.Module):\n",
    "    ''' Vi deriverar denna klass från nn-modulen eftersom vi vill \n",
    "    ha tillgång till dess parametrar. Konstruktorn ska kunna ta \n",
    "    learning rate, antalet klasser och dimensionen på inputen'''\n",
    "    def __init__(self, lr, n_classes, input_dims):\n",
    "        super(LinearClassifier, self).__init__() \n",
    "        # alternativt ekvivalent till super().__init__() \n",
    "        \n",
    "        # nästa steg vill vi deklarera våra layers för nätverket\n",
    "        self.fc1 = nn.Linear(*input_dims, 128) \n",
    "        self.fc2 = nn.Linear(128, 256) # första ger ut 128 units vilket innebär att fc2 måste ha ingångsvärde 128 \n",
    "        self.fc3 = nn.Linear(256, n_classes)\n",
    "        \n",
    "        # optimeraren är Adam, som är en stokastisk gradient descent, \n",
    "        # med momentum som är en adaptiv \"learningrate\" algoritm \n",
    "        self.optimizer = optim.Adam(self.parameters(), lr=lr) # self.parameters kommer från nn.module \n",
    "        \n",
    "        #Nästa steg är att deklarera en \"förlustfunktion\"\n",
    "        \n",
    "        self.loss = nn.CrossEntropyLoss() # nn.MSELoss()\n",
    "        \n",
    "        '''om vi nu har en GPU vi använder så vill ha ett sätt att skicka \n",
    "        hela skiten(nätverket) till den.'''\n",
    "        \n",
    "        self.device = T.device('cuda:0' if T.cuda.is_available() else 'cpu')\n",
    "        self.to(self.device) #skickar hela nätverket till GPUn\n",
    "        \n",
    "    \n",
    "    \n",
    "    def forward(self, data): \n",
    "        '''sköter forward-proppen för oss. I vårt fall kommer vi skicka datan till \n",
    "        det första lagret och aktivera den, sedan vidare till den andra osv.'''\n",
    "        \n",
    "        layer1 = F.sigmoid(self.fc1(data))\n",
    "        layer2 = F.sigmoid(self.fc2(layer1)) #datan kmr nu givetvs från första skiktet\n",
    "        layer3 = self.fc3(layer2) # behöver ingen aktivering från sigmoid då Entropifunken sköter det\n",
    "        \n",
    "        return layer3 \n",
    "    \n",
    "    def learn(self, data, labels):\n",
    "        '''......'''\n",
    "        self.optimizer.zero_grad() #För att \"nolla\" alla gradients mellan iterationerna. \n",
    "        data = T.tensor(data).to(self.device) #Konverting av datan till tensorer \n",
    "        labels = T.tensor(labels).to(self.device)\n",
    "        \n",
    "        \n",
    "        predictions = self.forward(data)\n",
    "        \n",
    "        cost = self.loss(predictions, labels)\n",
    "        \n",
    "        cost.backward()\n",
    "        self.optimizer.step()\n",
    "        \n",
    "        \n",
    "        \n",
    "        "
   ]
  },
  {
   "cell_type": "code",
   "execution_count": null,
   "metadata": {},
   "outputs": [],
   "source": []
  }
 ],
 "metadata": {
  "kernelspec": {
   "display_name": "Python 3",
   "language": "python",
   "name": "python3"
  },
  "language_info": {
   "codemirror_mode": {
    "name": "ipython",
    "version": 3
   },
   "file_extension": ".py",
   "mimetype": "text/x-python",
   "name": "python",
   "nbconvert_exporter": "python",
   "pygments_lexer": "ipython3",
   "version": "3.7.6"
  }
 },
 "nbformat": 4,
 "nbformat_minor": 4
}
